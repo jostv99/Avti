{
 "cells": [
  {
   "cell_type": "markdown",
   "metadata": {},
   "source": [
    "# Analiza podatkov o prodaji avtomobilov preko spletnega oglaševalnika bolha #\n",
    "Analiziral sem podatke spletnih oglasov avtomobilov na oglaševalniku [Bolha](https://www.bolha.com/avto-oglasi). Zajel sem veliko podatkov (je vozilo garažirano, leto modela, znamko,...), vendar jih je veliko neuporabnih zaradi pomankljivo izpolnjenih oglasov. Analiziral sem približno 5600 oglasov in probal odgovoriti na nekatera vprašanja, ki bi se jih marsikdo vprašal pri nakupovanju avtomobila. "
   ]
  },
  {
   "cell_type": "code",
   "execution_count": 83,
   "metadata": {},
   "outputs": [
    {
     "data": {
      "text/html": [
       "<div>\n",
       "<style scoped>\n",
       "    .dataframe tbody tr th:only-of-type {\n",
       "        vertical-align: middle;\n",
       "    }\n",
       "\n",
       "    .dataframe tbody tr th {\n",
       "        vertical-align: top;\n",
       "    }\n",
       "\n",
       "    .dataframe thead th {\n",
       "        text-align: right;\n",
       "    }\n",
       "</style>\n",
       "<table border=\"1\" class=\"dataframe\">\n",
       "  <thead>\n",
       "    <tr style=\"text-align: right;\">\n",
       "      <th></th>\n",
       "      <th>Cena</th>\n",
       "      <th>Lokacija vozila</th>\n",
       "      <th>Znamka avtomobila</th>\n",
       "      <th>Model avtomobila</th>\n",
       "      <th>Tip avtomobila</th>\n",
       "      <th>Leto izdelave</th>\n",
       "      <th>Prevoženi kilometri:</th>\n",
       "      <th>Motor</th>\n",
       "      <th>Delovna prostornina:</th>\n",
       "      <th>Poraba goriva</th>\n",
       "    </tr>\n",
       "  </thead>\n",
       "  <tbody>\n",
       "    <tr>\n",
       "      <th>0</th>\n",
       "      <td>NaN</td>\n",
       "      <td>NaN</td>\n",
       "      <td>NaN</td>\n",
       "      <td>NaN</td>\n",
       "      <td>NaN</td>\n",
       "      <td>NaN</td>\n",
       "      <td>NaN</td>\n",
       "      <td>NaN</td>\n",
       "      <td>NaN</td>\n",
       "      <td>NaN</td>\n",
       "    </tr>\n",
       "    <tr>\n",
       "      <th>1</th>\n",
       "      <td>4400.0</td>\n",
       "      <td>\"Obalno-kraška</td>\n",
       "      <td>Smart</td>\n",
       "      <td>fortwo coupe</td>\n",
       "      <td>passion cdi DPF Softouch</td>\n",
       "      <td>2013.0</td>\n",
       "      <td>190000.0</td>\n",
       "      <td>Diezel</td>\n",
       "      <td>799.0</td>\n",
       "      <td>3.3 l/100km</td>\n",
       "    </tr>\n",
       "    <tr>\n",
       "      <th>2</th>\n",
       "      <td>2000.0</td>\n",
       "      <td>\"Osrednjeslovenska</td>\n",
       "      <td>Peugeot</td>\n",
       "      <td>206</td>\n",
       "      <td>14HDI</td>\n",
       "      <td>2006.0</td>\n",
       "      <td>159000.0</td>\n",
       "      <td>Diezel</td>\n",
       "      <td>1398.0</td>\n",
       "      <td>NaN</td>\n",
       "    </tr>\n",
       "    <tr>\n",
       "      <th>3</th>\n",
       "      <td>0.0</td>\n",
       "      <td>\"Podravska</td>\n",
       "      <td>VW</td>\n",
       "      <td>Golf I</td>\n",
       "      <td>NaN</td>\n",
       "      <td>1996.0</td>\n",
       "      <td>111111.0</td>\n",
       "      <td>Diezel</td>\n",
       "      <td>1896.0</td>\n",
       "      <td>NaN</td>\n",
       "    </tr>\n",
       "    <tr>\n",
       "      <th>4</th>\n",
       "      <td>0.0</td>\n",
       "      <td>\"Podravska</td>\n",
       "      <td>BMW</td>\n",
       "      <td>serija 1</td>\n",
       "      <td>118d Advantage PO DELIH ALI V</td>\n",
       "      <td>2006.0</td>\n",
       "      <td>1.0</td>\n",
       "      <td>Diezel</td>\n",
       "      <td>1995.0</td>\n",
       "      <td>NaN</td>\n",
       "    </tr>\n",
       "    <tr>\n",
       "      <th>...</th>\n",
       "      <td>...</td>\n",
       "      <td>...</td>\n",
       "      <td>...</td>\n",
       "      <td>...</td>\n",
       "      <td>...</td>\n",
       "      <td>...</td>\n",
       "      <td>...</td>\n",
       "      <td>...</td>\n",
       "      <td>...</td>\n",
       "      <td>...</td>\n",
       "    </tr>\n",
       "    <tr>\n",
       "      <th>2806</th>\n",
       "      <td>0.0</td>\n",
       "      <td>\"Podravska</td>\n",
       "      <td>BMW</td>\n",
       "      <td>serija 3</td>\n",
       "      <td>318d Touring po delih ali v ce</td>\n",
       "      <td>2007.0</td>\n",
       "      <td>1.0</td>\n",
       "      <td>Diezel</td>\n",
       "      <td>1995.0</td>\n",
       "      <td>NaN</td>\n",
       "    </tr>\n",
       "    <tr>\n",
       "      <th>2807</th>\n",
       "      <td>0.0</td>\n",
       "      <td>\"Podravska</td>\n",
       "      <td>Ford</td>\n",
       "      <td>Focus</td>\n",
       "      <td>1.6 TDCi</td>\n",
       "      <td>2013.0</td>\n",
       "      <td>11111.0</td>\n",
       "      <td>Diezel</td>\n",
       "      <td>1560.0</td>\n",
       "      <td>NaN</td>\n",
       "    </tr>\n",
       "    <tr>\n",
       "      <th>2808</th>\n",
       "      <td>0.0</td>\n",
       "      <td>\"Podravska</td>\n",
       "      <td>Opel</td>\n",
       "      <td>Vectra Karavan</td>\n",
       "      <td>2.0 DTI</td>\n",
       "      <td>2004.0</td>\n",
       "      <td>11111.0</td>\n",
       "      <td>Diezel</td>\n",
       "      <td>1995.0</td>\n",
       "      <td>NaN</td>\n",
       "    </tr>\n",
       "    <tr>\n",
       "      <th>2809</th>\n",
       "      <td>0.0</td>\n",
       "      <td>\"Podravska</td>\n",
       "      <td>Hyundai</td>\n",
       "      <td>i20</td>\n",
       "      <td>1.2 Comfort PO DELIH ALI V CEL</td>\n",
       "      <td>2010.0</td>\n",
       "      <td>1.0</td>\n",
       "      <td>Bencin</td>\n",
       "      <td>1248.0</td>\n",
       "      <td>NaN</td>\n",
       "    </tr>\n",
       "    <tr>\n",
       "      <th>2810</th>\n",
       "      <td>0.0</td>\n",
       "      <td>\"Podravska</td>\n",
       "      <td>Renault</td>\n",
       "      <td>Twingo</td>\n",
       "      <td>TCe 90 Energy Dynamiqe Start S</td>\n",
       "      <td>2015.0</td>\n",
       "      <td>1.0</td>\n",
       "      <td>Bencin</td>\n",
       "      <td>898.0</td>\n",
       "      <td>NaN</td>\n",
       "    </tr>\n",
       "  </tbody>\n",
       "</table>\n",
       "<p>2811 rows × 10 columns</p>\n",
       "</div>"
      ],
      "text/plain": [
       "        Cena     Lokacija vozila Znamka avtomobila Model avtomobila  \\\n",
       "0        NaN                 NaN               NaN              NaN   \n",
       "1     4400.0      \"Obalno-kraška             Smart     fortwo coupe   \n",
       "2     2000.0  \"Osrednjeslovenska           Peugeot              206   \n",
       "3        0.0          \"Podravska                VW           Golf I   \n",
       "4        0.0          \"Podravska               BMW         serija 1   \n",
       "...      ...                 ...               ...              ...   \n",
       "2806     0.0          \"Podravska               BMW         serija 3   \n",
       "2807     0.0          \"Podravska              Ford            Focus   \n",
       "2808     0.0          \"Podravska              Opel   Vectra Karavan   \n",
       "2809     0.0          \"Podravska           Hyundai              i20   \n",
       "2810     0.0          \"Podravska           Renault           Twingo   \n",
       "\n",
       "                      Tip avtomobila  Leto izdelave  Prevoženi kilometri:  \\\n",
       "0                                NaN            NaN                   NaN   \n",
       "1           passion cdi DPF Softouch         2013.0              190000.0   \n",
       "2                              14HDI         2006.0              159000.0   \n",
       "3                                NaN         1996.0              111111.0   \n",
       "4     118d Advantage PO DELIH ALI V          2006.0                   1.0   \n",
       "...                              ...            ...                   ...   \n",
       "2806  318d Touring po delih ali v ce         2007.0                   1.0   \n",
       "2807                        1.6 TDCi         2013.0               11111.0   \n",
       "2808                        2.0 DTI          2004.0               11111.0   \n",
       "2809  1.2 Comfort PO DELIH ALI V CEL         2010.0                   1.0   \n",
       "2810  TCe 90 Energy Dynamiqe Start S         2015.0                   1.0   \n",
       "\n",
       "       Motor  Delovna prostornina: Poraba goriva  \n",
       "0        NaN                   NaN           NaN  \n",
       "1     Diezel                 799.0   3.3 l/100km  \n",
       "2     Diezel                1398.0           NaN  \n",
       "3     Diezel                1896.0           NaN  \n",
       "4     Diezel                1995.0           NaN  \n",
       "...      ...                   ...           ...  \n",
       "2806  Diezel                1995.0           NaN  \n",
       "2807  Diezel                1560.0           NaN  \n",
       "2808  Diezel                1995.0           NaN  \n",
       "2809  Bencin                1248.0           NaN  \n",
       "2810  Bencin                 898.0           NaN  \n",
       "\n",
       "[2811 rows x 10 columns]"
      ]
     },
     "execution_count": 83,
     "metadata": {},
     "output_type": "execute_result"
    }
   ],
   "source": [
    "import pandas as pd\n",
    "avti = pd.read_csv(\"C:\\\\Users\\\\jostv\\\\Desktop\\\\Gradivo\\\\2\\\\prog\\\\Analiza-podatkov\\\\fantazijski_romani\\\\koncni.csv\")\n",
    "avti = avti[[\"Cena\", \"Lokacija vozila\", \"Znamka avtomobila\", \"Model avtomobila\", \"Tip avtomobila\", \"Leto izdelave\", \"Prevoženi kilometri:\", \"Motor\", \"Delovna prostornina:\", \"Poraba goriva\"]]\n",
    "avti_popravljena_ocena = avti\n",
    "avti_popravljena_ocena = pd.to_numeric(avti_popravljena_ocena[\"Cena\"], errors=\"coerce\")\n",
    "avti[\"Cena\"] = avti_popravljena_ocena\n",
    "avti"
   ]
  },
  {
   "cell_type": "markdown",
   "metadata": {},
   "source": [
    "## Znamka\n",
    "Nekateri prisegamo na dobre znamke, nekateri na malo slabše, spet drugim je popolnoma vseeno. Vendar katera znamka nam ponuja najboljši (rabljen) avtomobil za najmanj denarja? Poskusimo odgovoriti preko grafov."
   ]
  },
  {
   "cell_type": "code",
   "execution_count": 82,
   "metadata": {},
   "outputs": [
    {
     "data": {
      "text/plain": [
       "<matplotlib.lines.Line2D at 0x251bbf6f670>"
      ]
     },
     "execution_count": 82,
     "metadata": {},
     "output_type": "execute_result"
    },
    {
     "data": {
      "image/png": "[encoded data removed]",
      "text/plain": [
       "<Figure size 720x360 with 1 Axes>"
      ]
     },
     "metadata": {
      "needs_background": "light"
     },
     "output_type": "display_data"
    },
    {
     "data": {
      "image/png": "[encoded data removed]",
      "text/plain": [
       "<Figure size 720x360 with 1 Axes>"
      ]
     },
     "metadata": {
      "needs_background": "light"
     },
     "output_type": "display_data"
    }
   ],
   "source": [
    "avti_po_znamkah = avti[avti.Cena > 100].groupby(\"Znamka avtomobila\").mean()\n",
    "avti_po_znamkah.sort_values(\"Cena\").plot.bar(y=\"Cena\", figsize=(10, 5)).axhline(color=\"red\", y=5000)\n",
    "avti_po_znamkah[avti_po_znamkah.Cena < 25000].sort_values(\"Leto izdelave\").plot.bar(y=\"Cena\", figsize=(10, 5)).axhline(color=\"red\", y=5000)\n"
   ]
  },
  {
   "cell_type": "markdown",
   "metadata": {},
   "source": [
    "Prvi graf nam prikazuje povprečno ceno avtomobila označene znamke, z rdečo črto pri 5000 eurih. Cene počasi naraščajo do 14000 eurov, potem pa skokoma narastejo pri dveh proizvajalcih najbolj znanih po dostavnih vozilih (t.i. pick-up trucki) in prestižni znamki Porsche. Ta anomalija je predvidljiva, saj so tovrstna vozila ena izmed dražjih na trgu, tako za vzdrževanje kot samo vožnjo.\\\n",
    "Drugi graf je bolj primeren za našega povprečnega kupca. Cene se omejene do 14000 eurov, znamke pa razvrščene po povprečni starosti vozil, kjer so znamke na levi starejše.\\\n",
    "Podatki so pri nekaterih znamkah lahko zavajajoči, saj oglasi podani brez cene niso vključeni v analizo."
   ]
  },
  {
   "cell_type": "markdown",
   "metadata": {},
   "source": [
    "## Tip motorja\n",
    "Ena izmed aktualnih tem je tip motorja. Vedno bolj popularni postajajo elektromotorji, z dosti dodatki pri samem nakupu (novega) avtomobila kot z mnogimi prednostmi pri sami uporabi (rezervirana parkirišča,...). Medtem pa so nekateri dizelski motorji ponekod že prepovedani. "
   ]
  },
  {
   "cell_type": "code",
   "execution_count": 92,
   "metadata": {},
   "outputs": [
    {
     "data": {
      "text/html": [
       "<div>\n",
       "<style scoped>\n",
       "    .dataframe tbody tr th:only-of-type {\n",
       "        vertical-align: middle;\n",
       "    }\n",
       "\n",
       "    .dataframe tbody tr th {\n",
       "        vertical-align: top;\n",
       "    }\n",
       "\n",
       "    .dataframe thead th {\n",
       "        text-align: right;\n",
       "    }\n",
       "</style>\n",
       "<table border=\"1\" class=\"dataframe\">\n",
       "  <thead>\n",
       "    <tr style=\"text-align: right;\">\n",
       "      <th></th>\n",
       "      <th>Cena</th>\n",
       "      <th>Leto izdelave</th>\n",
       "      <th>Prevoženi kilometri:</th>\n",
       "      <th>Delovna prostornina:</th>\n",
       "    </tr>\n",
       "    <tr>\n",
       "      <th>Motor</th>\n",
       "      <th></th>\n",
       "      <th></th>\n",
       "      <th></th>\n",
       "      <th></th>\n",
       "    </tr>\n",
       "  </thead>\n",
       "  <tbody>\n",
       "    <tr>\n",
       "      <th>Bencin</th>\n",
       "      <td>5535.318436</td>\n",
       "      <td>2001.385475</td>\n",
       "      <td>160773.910615</td>\n",
       "      <td>1584.759777</td>\n",
       "    </tr>\n",
       "    <tr>\n",
       "      <th>Diezel</th>\n",
       "      <td>6645.504155</td>\n",
       "      <td>2009.567867</td>\n",
       "      <td>223214.299169</td>\n",
       "      <td>1942.409972</td>\n",
       "    </tr>\n",
       "    <tr>\n",
       "      <th>Hibrid</th>\n",
       "      <td>13758.166667</td>\n",
       "      <td>2012.833333</td>\n",
       "      <td>190008.333333</td>\n",
       "      <td>1665.666667</td>\n",
       "    </tr>\n",
       "  </tbody>\n",
       "</table>\n",
       "</div>"
      ],
      "text/plain": [
       "                Cena  Leto izdelave  Prevoženi kilometri:  \\\n",
       "Motor                                                       \n",
       "Bencin   5535.318436    2001.385475         160773.910615   \n",
       "Diezel   6645.504155    2009.567867         223214.299169   \n",
       "Hibrid  13758.166667    2012.833333         190008.333333   \n",
       "\n",
       "        Delovna prostornina:  \n",
       "Motor                         \n",
       "Bencin           1584.759777  \n",
       "Diezel           1942.409972  \n",
       "Hibrid           1665.666667  "
      ]
     },
     "execution_count": 92,
     "metadata": {},
     "output_type": "execute_result"
    }
   ],
   "source": [
    "tip_motorja = avti[avti.Cena > 100].groupby(\"Motor\")\n",
    "tip_motorja.mean()"
   ]
  },
  {
   "cell_type": "markdown",
   "metadata": {},
   "source": [
    "Vsak tip motorja ima svoje prednosti in slabosti. Posebaj previdni moramo biti pri starejših dizelskih saj bomo z njimi vedno bolj omejeni. Tip motorja načeloma ne vpliva pri nakupu (rabljenega) vozila."
   ]
  }
 ],
 "metadata": {
  "interpreter": {
   "hash": "2be5faf79681da6f2a61fdfdd5405d65d042280f7fba6178067603e3a2925119"
  },
  "kernelspec": {
   "display_name": "Python 3.10.1 64-bit",
   "language": "python",
   "name": "python3"
  },
  "language_info": {
   "codemirror_mode": {
    "name": "ipython",
    "version": 3
   },
   "file_extension": ".py",
   "mimetype": "text/x-python",
   "name": "python",
   "nbconvert_exporter": "python",
   "pygments_lexer": "ipython3",
   "version": "3.10.1"
  },
  "orig_nbformat": 4
 },
 "nbformat": 4,
 "nbformat_minor": 2
}
